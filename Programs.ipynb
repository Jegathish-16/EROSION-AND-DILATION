{
 "cells": [
  {
   "cell_type": "code",
   "execution_count": 2,
   "id": "e69a96fc",
   "metadata": {},
   "outputs": [],
   "source": [
    "import cv2\n",
    "import numpy as np"
   ]
  },
  {
   "cell_type": "code",
   "execution_count": 3,
   "id": "643338b1",
   "metadata": {},
   "outputs": [],
   "source": [
    "img= np.zeros((350,1400),dtype ='uint8')\n",
    "font = cv2.FONT_HERSHEY_SIMPLEX\n",
    "cv2.putText(img,'JEGATHISH S',(15,200),font,5,(255),10,cv2.LINE_AA)\n",
    "cv2.imshow('created_text',img)\n",
    "cv2.waitKey(0)\n",
    "cv2.destroyAllWindows()"
   ]
  },
  {
   "cell_type": "code",
   "execution_count": 5,
   "id": "99d4042b",
   "metadata": {},
   "outputs": [],
   "source": [
    "erode1= np.ones((5,5),np.uint8)\n",
    "erode2 = cv2.getStructuringElement(cv2.MORPH_CROSS,(12,12))"
   ]
  },
  {
   "cell_type": "code",
   "execution_count": 6,
   "id": "dbcc2222",
   "metadata": {},
   "outputs": [],
   "source": [
    "image_erode1 = cv2.erode(img,erode1)\n",
    "cv2.imshow('Eroded_image_1',image_erode1)\n",
    "cv2.waitKey(0)\n",
    "cv2.destroyAllWindows()"
   ]
  },
  {
   "cell_type": "code",
   "execution_count": 7,
   "id": "f6b2f310",
   "metadata": {},
   "outputs": [],
   "source": [
    "image_erode2 = cv2.erode(img,erode2)\n",
    "cv2.imshow('Eroded_image2',image_erode2)\n",
    "cv2.waitKey(0)\n",
    "cv2.destroyAllWindows()"
   ]
  },
  {
   "cell_type": "code",
   "execution_count": 8,
   "id": "c60d1536",
   "metadata": {},
   "outputs": [],
   "source": [
    "dilate1= np.ones((5,5),np.uint8)\n",
    "dilate2 = cv2.getStructuringElement(cv2.MORPH_CROSS,(12,12))"
   ]
  },
  {
   "cell_type": "code",
   "execution_count": 9,
   "id": "96a575d3",
   "metadata": {},
   "outputs": [],
   "source": [
    "image_dilate1 = cv2.dilate(img,dilate1)\n",
    "cv2.imshow('Dilated_image_1',image_dilate1)\n",
    "cv2.waitKey(0)\n",
    "cv2.destroyAllWindows()"
   ]
  },
  {
   "cell_type": "code",
   "execution_count": 10,
   "id": "0656f658",
   "metadata": {},
   "outputs": [],
   "source": [
    "image_dilate2 = cv2.dilate(img,dilate2)\n",
    "cv2.imshow('Dilated_image_1',image_dilate2)\n",
    "cv2.waitKey(0)\n",
    "cv2.destroyAllWindows()"
   ]
  },
  {
   "cell_type": "code",
   "execution_count": null,
   "id": "1eefb0b9",
   "metadata": {},
   "outputs": [],
   "source": []
  }
 ],
 "metadata": {
  "kernelspec": {
   "display_name": "Python 3",
   "language": "python",
   "name": "python3"
  },
  "language_info": {
   "codemirror_mode": {
    "name": "ipython",
    "version": 3
   },
   "file_extension": ".py",
   "mimetype": "text/x-python",
   "name": "python",
   "nbconvert_exporter": "python",
   "pygments_lexer": "ipython3",
   "version": "3.8.8"
  }
 },
 "nbformat": 4,
 "nbformat_minor": 5
}
